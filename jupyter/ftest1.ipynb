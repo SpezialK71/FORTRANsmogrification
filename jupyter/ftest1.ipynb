{
 "cells": [
  {
   "cell_type": "markdown",
   "id": "677007bb-4bf6-4222-bd23-9209fa8dd339",
   "metadata": {},
   "source": []
  }
 ],
 "metadata": {
  "kernelspec": {
   "display_name": "Fortran",
   "language": "fortran",
   "name": "fortran"
  },
  "language_info": {
   "file_extension": ".f90",
   "mimetype": "text/x-fortran",
   "name": "fortran",
   "version": "2018"
  }
 },
 "nbformat": 4,
 "nbformat_minor": 5
}
